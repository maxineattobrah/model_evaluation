{
 "cells": [
  {
   "cell_type": "code",
   "execution_count": 1,
   "id": "0567e39d",
   "metadata": {},
   "outputs": [],
   "source": [
    "import pandas as pd\n",
    "import numpy as np\n",
    "\n",
    "\n",
    "from sklearn.model_selection import train_test_split\n",
    "from sklearn.linear_model import LinearRegression\n",
    "from sklearn.metrics import mean_squared_error, mean_absolute_error, r2_score\n",
    "\n",
    "import seaborn as sb"
   ]
  },
  {
   "cell_type": "code",
   "execution_count": 2,
   "id": "b89ac845",
   "metadata": {},
   "outputs": [],
   "source": [
    "car_data_df = pd.read_csv(\"Car_Purchasing_Data.csv\")"
   ]
  },
  {
   "cell_type": "code",
   "execution_count": 3,
   "id": "72724e20",
   "metadata": {},
   "outputs": [
    {
     "name": "stdout",
     "output_type": "stream",
     "text": [
      "<class 'pandas.core.frame.DataFrame'>\n",
      "RangeIndex: 500 entries, 0 to 499\n",
      "Data columns (total 9 columns):\n",
      " #   Column               Non-Null Count  Dtype  \n",
      "---  ------               --------------  -----  \n",
      " 0   Customer Name        500 non-null    object \n",
      " 1   Customer e-mail      500 non-null    object \n",
      " 2   Country              500 non-null    object \n",
      " 3   Gender               500 non-null    int64  \n",
      " 4   Age                  500 non-null    int64  \n",
      " 5   Annual Salary        500 non-null    float64\n",
      " 6   Credit Card Debt     500 non-null    float64\n",
      " 7   Net Worth            500 non-null    float64\n",
      " 8   Car Purchase Amount  500 non-null    float64\n",
      "dtypes: float64(4), int64(2), object(3)\n",
      "memory usage: 35.3+ KB\n"
     ]
    }
   ],
   "source": [
    "car_data_df.info()"
   ]
  },
  {
   "cell_type": "code",
   "execution_count": 4,
   "id": "0c30a58e",
   "metadata": {},
   "outputs": [
    {
     "data": {
      "text/plain": [
       "array(['USA'], dtype=object)"
      ]
     },
     "execution_count": 4,
     "metadata": {},
     "output_type": "execute_result"
    }
   ],
   "source": [
    "car_data_df[\"Country\"].unique()"
   ]
  },
  {
   "cell_type": "code",
   "execution_count": 5,
   "id": "28632ebb",
   "metadata": {},
   "outputs": [],
   "source": [
    "car_data_df = car_data_df.drop([\"Customer Name\",\"Customer e-mail\",\"Country\"], axis=1)"
   ]
  },
  {
   "cell_type": "code",
   "execution_count": 6,
   "id": "66525e92",
   "metadata": {
    "scrolled": false
   },
   "outputs": [
    {
     "data": {
      "text/html": [
       "<div>\n",
       "<style scoped>\n",
       "    .dataframe tbody tr th:only-of-type {\n",
       "        vertical-align: middle;\n",
       "    }\n",
       "\n",
       "    .dataframe tbody tr th {\n",
       "        vertical-align: top;\n",
       "    }\n",
       "\n",
       "    .dataframe thead th {\n",
       "        text-align: right;\n",
       "    }\n",
       "</style>\n",
       "<table border=\"1\" class=\"dataframe\">\n",
       "  <thead>\n",
       "    <tr style=\"text-align: right;\">\n",
       "      <th></th>\n",
       "      <th>Gender</th>\n",
       "      <th>Age</th>\n",
       "      <th>Annual Salary</th>\n",
       "      <th>Credit Card Debt</th>\n",
       "      <th>Net Worth</th>\n",
       "      <th>Car Purchase Amount</th>\n",
       "    </tr>\n",
       "  </thead>\n",
       "  <tbody>\n",
       "    <tr>\n",
       "      <th>0</th>\n",
       "      <td>0</td>\n",
       "      <td>42</td>\n",
       "      <td>62812.09301</td>\n",
       "      <td>11609.380910</td>\n",
       "      <td>238961.2505</td>\n",
       "      <td>35321.45877</td>\n",
       "    </tr>\n",
       "    <tr>\n",
       "      <th>1</th>\n",
       "      <td>0</td>\n",
       "      <td>41</td>\n",
       "      <td>66646.89292</td>\n",
       "      <td>9572.957136</td>\n",
       "      <td>530973.9078</td>\n",
       "      <td>45115.52566</td>\n",
       "    </tr>\n",
       "    <tr>\n",
       "      <th>2</th>\n",
       "      <td>1</td>\n",
       "      <td>43</td>\n",
       "      <td>53798.55112</td>\n",
       "      <td>11160.355060</td>\n",
       "      <td>638467.1773</td>\n",
       "      <td>42925.70921</td>\n",
       "    </tr>\n",
       "    <tr>\n",
       "      <th>3</th>\n",
       "      <td>1</td>\n",
       "      <td>58</td>\n",
       "      <td>79370.03798</td>\n",
       "      <td>14426.164850</td>\n",
       "      <td>548599.0524</td>\n",
       "      <td>67422.36313</td>\n",
       "    </tr>\n",
       "    <tr>\n",
       "      <th>4</th>\n",
       "      <td>1</td>\n",
       "      <td>57</td>\n",
       "      <td>59729.15130</td>\n",
       "      <td>5358.712177</td>\n",
       "      <td>560304.0671</td>\n",
       "      <td>55915.46248</td>\n",
       "    </tr>\n",
       "    <tr>\n",
       "      <th>5</th>\n",
       "      <td>1</td>\n",
       "      <td>57</td>\n",
       "      <td>68499.85162</td>\n",
       "      <td>14179.472440</td>\n",
       "      <td>428485.3604</td>\n",
       "      <td>56611.99784</td>\n",
       "    </tr>\n",
       "    <tr>\n",
       "      <th>6</th>\n",
       "      <td>1</td>\n",
       "      <td>47</td>\n",
       "      <td>39814.52200</td>\n",
       "      <td>5958.460188</td>\n",
       "      <td>326373.1812</td>\n",
       "      <td>28925.70549</td>\n",
       "    </tr>\n",
       "    <tr>\n",
       "      <th>7</th>\n",
       "      <td>1</td>\n",
       "      <td>50</td>\n",
       "      <td>51752.23445</td>\n",
       "      <td>10985.696560</td>\n",
       "      <td>629312.4041</td>\n",
       "      <td>47434.98265</td>\n",
       "    </tr>\n",
       "    <tr>\n",
       "      <th>8</th>\n",
       "      <td>0</td>\n",
       "      <td>47</td>\n",
       "      <td>58139.25910</td>\n",
       "      <td>3440.823799</td>\n",
       "      <td>630059.0274</td>\n",
       "      <td>48013.61410</td>\n",
       "    </tr>\n",
       "    <tr>\n",
       "      <th>9</th>\n",
       "      <td>1</td>\n",
       "      <td>43</td>\n",
       "      <td>53457.10132</td>\n",
       "      <td>12884.078680</td>\n",
       "      <td>476643.3544</td>\n",
       "      <td>38189.50601</td>\n",
       "    </tr>\n",
       "  </tbody>\n",
       "</table>\n",
       "</div>"
      ],
      "text/plain": [
       "   Gender  Age  Annual Salary  Credit Card Debt    Net Worth  \\\n",
       "0       0   42    62812.09301      11609.380910  238961.2505   \n",
       "1       0   41    66646.89292       9572.957136  530973.9078   \n",
       "2       1   43    53798.55112      11160.355060  638467.1773   \n",
       "3       1   58    79370.03798      14426.164850  548599.0524   \n",
       "4       1   57    59729.15130       5358.712177  560304.0671   \n",
       "5       1   57    68499.85162      14179.472440  428485.3604   \n",
       "6       1   47    39814.52200       5958.460188  326373.1812   \n",
       "7       1   50    51752.23445      10985.696560  629312.4041   \n",
       "8       0   47    58139.25910       3440.823799  630059.0274   \n",
       "9       1   43    53457.10132      12884.078680  476643.3544   \n",
       "\n",
       "   Car Purchase Amount  \n",
       "0          35321.45877  \n",
       "1          45115.52566  \n",
       "2          42925.70921  \n",
       "3          67422.36313  \n",
       "4          55915.46248  \n",
       "5          56611.99784  \n",
       "6          28925.70549  \n",
       "7          47434.98265  \n",
       "8          48013.61410  \n",
       "9          38189.50601  "
      ]
     },
     "execution_count": 6,
     "metadata": {},
     "output_type": "execute_result"
    }
   ],
   "source": [
    "car_data_df.head(10)"
   ]
  },
  {
   "cell_type": "markdown",
   "id": "f109d1ed",
   "metadata": {},
   "source": [
    "## Split Data into Training and Validation "
   ]
  },
  {
   "cell_type": "code",
   "execution_count": 7,
   "id": "739da416",
   "metadata": {},
   "outputs": [],
   "source": [
    "x_train, x_test, y_train, y_test = train_test_split(\n",
    "    car_data_df[[\"Gender\", \"Age\", \"Annual Salary\",\"Credit Card Debt\",\"Net Worth\"]],\n",
    "    car_data_df[\"Car Purchase Amount\"],\n",
    "    test_size=.2,\n",
    "    random_state=42\n",
    ")"
   ]
  },
  {
   "cell_type": "markdown",
   "id": "87aed56d",
   "metadata": {},
   "source": [
    "## Train Model"
   ]
  },
  {
   "cell_type": "code",
   "execution_count": 8,
   "id": "e2e7cbcc",
   "metadata": {},
   "outputs": [],
   "source": [
    "linregress = LinearRegression()"
   ]
  },
  {
   "cell_type": "code",
   "execution_count": 9,
   "id": "74968110",
   "metadata": {},
   "outputs": [
    {
     "data": {
      "text/plain": [
       "LinearRegression()"
      ]
     },
     "execution_count": 9,
     "metadata": {},
     "output_type": "execute_result"
    }
   ],
   "source": [
    "linregress.fit(x_train,y_train)"
   ]
  },
  {
   "cell_type": "code",
   "execution_count": 10,
   "id": "146a865c",
   "metadata": {},
   "outputs": [],
   "source": [
    "car_purchase_amount_predictions = linregress.predict(x_test)"
   ]
  },
  {
   "cell_type": "code",
   "execution_count": 11,
   "id": "da92a0e7",
   "metadata": {},
   "outputs": [
    {
     "data": {
      "text/plain": [
       "array([45989.54733104, 45223.02897284, 63000.06820657, 31619.21756194,\n",
       "       60029.67501801, 63067.28827187, 52220.21283501, 54535.57733288,\n",
       "       52420.90039707, 48260.38225976, 37978.32493163, 56193.67796901,\n",
       "       44675.75830359, 39293.07329136, 40164.30689656, 55256.87040149,\n",
       "       48486.50654978, 17241.65343841, 60915.11744513, 50001.28696678,\n",
       "       41608.01914155, 52656.1948089 , 51787.34478568, 38489.59183524,\n",
       "       41136.08595326, 38686.9335169 , 64200.6236624 , 47932.85642689,\n",
       "       23079.52734895, 52490.04325973, 54914.43514146, 46102.27053618,\n",
       "       41548.77959382, 57342.45195217, 42838.08358654, 39631.4307642 ,\n",
       "       61921.49209854, 30743.33069277, 41865.0239423 , 39993.64026916,\n",
       "       57251.53025062, 61043.20260203, 47079.22422414, 36371.67723767,\n",
       "       53076.01116877, 44845.69580309, 35470.7411572 , 42165.67866779,\n",
       "       52135.75018466, 47649.72193049, 41983.35444705, 32704.938157  ,\n",
       "       38261.02705898, 41532.83502063, 44823.54206451, 47941.39326319,\n",
       "       60585.18379995, 44758.73252969, 44757.86374471, 38396.07319103,\n",
       "       64327.16312194, 43502.05961766, 22808.17706479, 55045.34515265,\n",
       "       40945.73396111, 54771.49082725, 60341.41336686, 34089.49786593,\n",
       "       43162.9793176 , 48343.44031494, 60000.64485495, 28658.93419915,\n",
       "       59299.04212352, 55064.46020933, 60004.44296403, 21804.92833486,\n",
       "       41208.61788976, 49387.84592087, 32605.37117916, 61024.06197925,\n",
       "       42404.54040576, 30681.23514511, 36105.07225366, 43595.85862272,\n",
       "       50580.60209989, 39015.30159985, 38582.11620546, 30762.01318097,\n",
       "       39868.73186727, 35759.48824945, 29485.13095914, 37144.25504549,\n",
       "       31354.48919144, 40812.25598576, 32315.18715836, 49116.33141546,\n",
       "       44803.82049685, 51024.2997869 , 43656.29447527, 52799.8215355 ])"
      ]
     },
     "execution_count": 11,
     "metadata": {},
     "output_type": "execute_result"
    }
   ],
   "source": [
    "car_purchase_amount_predictions"
   ]
  },
  {
   "cell_type": "markdown",
   "id": "397b4dec",
   "metadata": {},
   "source": [
    "## Evaluate Model"
   ]
  },
  {
   "cell_type": "code",
   "execution_count": 12,
   "id": "18e5b982",
   "metadata": {},
   "outputs": [],
   "source": [
    "actual_values = np.array(y_test)"
   ]
  },
  {
   "cell_type": "code",
   "execution_count": 13,
   "id": "70a6c3c2",
   "metadata": {},
   "outputs": [],
   "source": [
    "predicted_values = np.array(car_purchase_amount_predictions)"
   ]
  },
  {
   "cell_type": "code",
   "execution_count": 14,
   "id": "d4b120a6",
   "metadata": {},
   "outputs": [
    {
     "data": {
      "text/plain": [
       "<AxesSubplot:>"
      ]
     },
     "execution_count": 14,
     "metadata": {},
     "output_type": "execute_result"
    },
    {
     "data": {
      "image/png": "[encoded data removed]",
      "text/plain": [
       "<Figure size 640x480 with 1 Axes>"
      ]
     },
     "metadata": {},
     "output_type": "display_data"
    }
   ],
   "source": [
    "sb.regplot(x = predicted_values, y = actual_values,\n",
    "          line_kws={\"color\":\"blue\"},\n",
    "          scatter_kws={\"color\":\"red\"})"
   ]
  },
  {
   "cell_type": "markdown",
   "id": "0fb918c9",
   "metadata": {},
   "source": [
    "### R Squared"
   ]
  },
  {
   "cell_type": "code",
   "execution_count": 15,
   "id": "b8f21402",
   "metadata": {},
   "outputs": [
    {
     "data": {
      "text/plain": [
       "0.9994234310992767"
      ]
     },
     "execution_count": 15,
     "metadata": {},
     "output_type": "execute_result"
    }
   ],
   "source": [
    "r2_score(actual_values, predicted_values)"
   ]
  },
  {
   "cell_type": "markdown",
   "id": "659dd386",
   "metadata": {},
   "source": [
    "### MSE"
   ]
  },
  {
   "cell_type": "code",
   "execution_count": 16,
   "id": "cb30d327",
   "metadata": {},
   "outputs": [
    {
     "data": {
      "text/plain": [
       "62253.96588894179"
      ]
     },
     "execution_count": 16,
     "metadata": {},
     "output_type": "execute_result"
    }
   ],
   "source": [
    "mean_squared_error(actual_values, predicted_values)"
   ]
  },
  {
   "cell_type": "markdown",
   "id": "50952088",
   "metadata": {},
   "source": [
    "### RMSE"
   ]
  },
  {
   "cell_type": "code",
   "execution_count": 17,
   "id": "e201e81f",
   "metadata": {},
   "outputs": [
    {
     "data": {
      "text/plain": [
       "249.50744656010127"
      ]
     },
     "execution_count": 17,
     "metadata": {},
     "output_type": "execute_result"
    }
   ],
   "source": [
    "np.sqrt(mean_squared_error(actual_values, predicted_values))"
   ]
  },
  {
   "cell_type": "markdown",
   "id": "055d3b3c",
   "metadata": {},
   "source": [
    "### MAE"
   ]
  },
  {
   "cell_type": "code",
   "execution_count": 18,
   "id": "c9096ef2",
   "metadata": {},
   "outputs": [
    {
     "data": {
      "text/plain": [
       "212.72103051546065"
      ]
     },
     "execution_count": 18,
     "metadata": {},
     "output_type": "execute_result"
    }
   ],
   "source": [
    "mean_absolute_error(actual_values, predicted_values)"
   ]
  }
 ],
 "metadata": {
  "kernelspec": {
   "display_name": "Python 3 (ipykernel)",
   "language": "python",
   "name": "python3"
  },
  "language_info": {
   "codemirror_mode": {
    "name": "ipython",
    "version": 3
   },
   "file_extension": ".py",
   "mimetype": "text/x-python",
   "name": "python",
   "nbconvert_exporter": "python",
   "pygments_lexer": "ipython3",
   "version": "3.9.13"
  }
 },
 "nbformat": 4,
 "nbformat_minor": 5
}
